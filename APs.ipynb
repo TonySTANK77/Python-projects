{
 "cells": [
  {
   "cell_type": "code",
   "execution_count": 11,
   "id": "3283fd3c",
   "metadata": {},
   "outputs": [],
   "source": [
    "lst = [1,2,3,4,5]\n",
    "elst = [2,4,6,8,10]\n",
    "olst = [1,3,5,7,9]\n",
    "notlst = [1,4,6,7,8]\n",
    "notlst_1 = [0]"
   ]
  },
  {
   "cell_type": "code",
   "execution_count": 2,
   "id": "329cc808",
   "metadata": {},
   "outputs": [],
   "source": [
    "def check(lst):\n",
    "   # Finding the common difference of the AP.\n",
    "    common_diff = lst[1] - lst[0]\n",
    "    \n",
    "    # Checks if the items of the list are in AP or not.\n",
    "    for i in range(2, len(lst)):\n",
    "        if lst[i] - lst[i-1] == common_diff:\n",
    "            return True\n",
    "        else:\n",
    "            return False"
   ]
  },
  {
   "cell_type": "code",
   "execution_count": 3,
   "id": "bab20d9a",
   "metadata": {},
   "outputs": [
    {
     "data": {
      "text/plain": [
       "True"
      ]
     },
     "execution_count": 3,
     "metadata": {},
     "output_type": "execute_result"
    }
   ],
   "source": [
    "check(lst)"
   ]
  },
  {
   "cell_type": "code",
   "execution_count": 13,
   "id": "c8263f6c",
   "metadata": {},
   "outputs": [],
   "source": [
    "def sum_AP(lst):\n",
    "    \n",
    "    # All required parameters:\n",
    "    a = lst[0]\n",
    "    d = lst[1] - lst[0]\n",
    "    n = int(input(\"Give a number: \"))\n",
    "    \n",
    "    # Setting the formula- n/2*(2*a + (n-1)*d)\n",
    "    add = int(n/2*(2*a + (n-1)*d))\n",
    "    print(f\"Here's your sum: {add}\")"
   ]
  },
  {
   "cell_type": "code",
   "execution_count": 16,
   "id": "3e2c7177",
   "metadata": {},
   "outputs": [
    {
     "name": "stdout",
     "output_type": "stream",
     "text": [
      "Give a number: 100000000000000000000000000000000000000000000\n",
      "Here's your sum: 5000000000000000680507154670943978449108730819701515112090643486842998675557872773890048\n"
     ]
    }
   ],
   "source": [
    "sum_AP(lst)"
   ]
  },
  {
   "cell_type": "code",
   "execution_count": null,
   "id": "ece20b2d",
   "metadata": {},
   "outputs": [],
   "source": []
  }
 ],
 "metadata": {
  "kernelspec": {
   "display_name": "Python 3 (ipykernel)",
   "language": "python",
   "name": "python3"
  },
  "language_info": {
   "codemirror_mode": {
    "name": "ipython",
    "version": 3
   },
   "file_extension": ".py",
   "mimetype": "text/x-python",
   "name": "python",
   "nbconvert_exporter": "python",
   "pygments_lexer": "ipython3",
   "version": "3.11.5"
  }
 },
 "nbformat": 4,
 "nbformat_minor": 5
}
